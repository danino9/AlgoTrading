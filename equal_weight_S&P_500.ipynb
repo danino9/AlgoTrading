{
 "cells": [
  {
   "cell_type": "markdown",
   "metadata": {},
   "source": [
    "# Equal-Weight S&P 500 Index Fund\n",
    "\n",
    "## Introduction & Library Imports\n",
    "\n",
    "The S&P 500 is the world's most popular stock market index. The largest fund that is benchmarked to this index is the SPDR® S&P 500® ETF Trust. It has more than US$250 billion of assets under management.\n",
    "\n",
    "The goal of this section of the course is to create a Python script that will accept the value of your portfolio and tell you how many shares of each S&P 500 constituent you should purchase to get an equal-weight version of the index fund.\n",
    "\n",
    "## Library Imports\n",
    "\n",
    "The first thing we need to do is import the open-source software libraries that we'll be using in this tutorial."
   ]
  },
  {
   "cell_type": "code",
   "execution_count": null,
   "metadata": {},
   "outputs": [],
   "source": [
    "import pandas as pd\n",
    "import requests\n",
    "import math\n",
    "import zipfile\n",
    "import os\n",
    "import time"
   ]
  },
  {
   "cell_type": "markdown",
   "metadata": {},
   "source": [
    "## Importing Our List of Stocks\n",
    "\n",
    "The next thing we need to do is import the constituents of the S&P 500.\n",
    "\n",
    "These constituents change over time, so in an ideal world you would connect directly to the index provider (Standard & Poor's) and pull their real-time constituents on a regular basis.\n",
    "\n",
    "Paying for access to the index provider's API is outside of the scope of this course. \n",
    "\n",
    "There's a static version of the S&P 500 constituents available here. [Click this link to download them now](https://drive.google.com/file/d/1ZJSpbY69DVckVZlO9cC6KkgfSufybcHN/view?usp=sharing). Move this file into the `starter-files` folder so it can be accessed by other files in that directory.\n",
    "\n",
    "### Daniel Edit - I Download the newest list for free from Kaggle. I Traced the Download file to the real URL by inspecting the page and using requests to download the zip & zipfile library to unzip"
   ]
  },
  {
   "cell_type": "code",
   "execution_count": null,
   "metadata": {},
   "outputs": [],
   "source": [
    "def download_file(url):\n",
    "    \"\"\"\n",
    "    This Function Downloads a file from the given URL stored in file and saves it as 'S&P.zip' in the current working directory.\n",
    "    Returns the local file path.\n",
    "    \"\"\"\n",
    "    local_filename = 'S&P.zip'\n",
    "    # Use the requests library to download the file at the given URL\n",
    "    with requests.get(url, stream=True) as r:\n",
    "        # Raise an error if the request returns a non-200 status code\n",
    "        r.raise_for_status()\n",
    "        # Open the local file for writing in binary mode\n",
    "        with open(local_filename, 'wb') as f:\n",
    "            for chunk in r.iter_content(chunk_size=8192):\n",
    "                # Write the current chunk to the local file\n",
    "                f.write(chunk)\n",
    "    # Add the current working directory to the filename\n",
    "    local_filename = os.getcwd() + '\\\\' + local_filename\n",
    "    print(\"your file is in: \",local_filename)\n",
    "    f.close()\n",
    "    return local_filename\n",
    "\n",
    "def extract_from_zip(zip_file,inside_file):\n",
    "    \"\"\"\n",
    "    Extracts all files from the given zip file that contain the specified string in their name.\n",
    "    Extracts to the current working directory.\n",
    "    \"\"\"\n",
    "    with zipfile.ZipFile(zip_file, 'r') as zip_ref:\n",
    "        # Extract all files that contain the specified string in their name\n",
    "        zip_ref.extractall(path = './', members = [m for m in zip_ref.namelist() if inside_file in m])\n",
    "\n",
    "\n",
    "# Open the file 'DOWNLOAD_URL.txt' for reading ! u need to go to kaggle and start the download and cancel, then inspect the download link. this will be fixed later\n",
    "with open ('DOWNLOAD_URL.txt','r') as u:\n",
    "    # Read the contents of the file and store it as the URL\n",
    "    URL=u.read()\n",
    "\n",
    "file_name=download_file(URL)\n",
    "extract_from_zip(file_name,'sp500_companies.csv')"
   ]
  },
  {
   "cell_type": "markdown",
   "metadata": {},
   "source": [
    "Now it's time to import these stocks to our Jupyter Notebook file."
   ]
  },
  {
   "cell_type": "code",
   "execution_count": null,
   "metadata": {},
   "outputs": [],
   "source": [
    "stocks=pd.read_csv('sp500_companies.csv')\n",
    "stocks = stocks.iloc[:,1] #we have all the data we need in the csv, but we want to get the most accureate data from IEX cloud\n",
    "stocks"
   ]
  },
  {
   "cell_type": "markdown",
   "metadata": {},
   "source": [
    "\n",
    "\n",
    "## Acquiring an API Token\n",
    "\n",
    "Now it's time to import our IEX Cloud API token. This is the data provider that we will be using throughout this course.\n",
    "\n",
    "API tokens (and other sensitive information) should be stored in a `secrets.py` file that doesn't get pushed to your local Git repository. We'll be using a sandbox API token in this course, which means that the data we'll use is randomly-generated and (more importantly) has no cost associated with it.\n",
    "\n",
    "[Click here](http://nickmccullum.com/algorithmic-trading-python/secrets.py) to download your `secrets.py` file. Move the file into the same directory as this Jupyter Notebook before proceeding."
   ]
  },
  {
   "cell_type": "code",
   "execution_count": null,
   "outputs": [],
   "source": [
    "from just_secret import IEX_CLOUD_API_TOKEN"
   ],
   "metadata": {
    "collapsed": false
   }
  },
  {
   "cell_type": "markdown",
   "metadata": {},
   "source": [
    "## Making Our First API Call\n",
    "\n",
    "Now it's time to structure our API calls to IEX cloud. \n",
    "\n",
    "We need the following information from the API:\n",
    "\n",
    "* Market capitalization for each stock\n",
    "* Price of each stock\n",
    "\n",
    "### Daniel Note-The Old sandbox is deprecated. There is a brand new system. Therefore I'm using brand new documentation and real data instead of syntactic like the course does"
   ]
  },
  {
   "cell_type": "code",
   "execution_count": null,
   "metadata": {},
   "outputs": [],
   "source": [
    "symbol='MMM'\n",
    "api_url=f'https://api.iex.cloud/v1/data/core/quote/BRK.B?token={IEX_CLOUD_API_TOKEN}'\n",
    "data=requests.get(api_url).json()\n",
    "print(data[0]['week52High'])\n",
    "# the data returned for the get command is in the form of a dictionary inside a list- [dict]\n",
    "# therefor we point to the first object in the list, and then the key of the wanted value"
   ]
  },
  {
   "cell_type": "markdown",
   "metadata": {},
   "source": [
    "## Parsing Our API Call\n",
    "\n",
    "The API call that we executed in the last code block contains all of the information required to build our equal-weight S&P 500 strategy. \n",
    "\n",
    "With that said, the data isn't in a proper format yet. We need to parse it first."
   ]
  },
  {
   "cell_type": "code",
   "execution_count": null,
   "metadata": {},
   "outputs": [],
   "source": [
    "price=data[0]['latestPrice']\n",
    "market_cap=data[0]['marketCap']\n",
    "print (f'{symbol} market cap is {round(market_cap/1000000000000,3)} in Trillion dollars')"
   ]
  },
  {
   "cell_type": "markdown",
   "metadata": {},
   "source": [
    "## Adding Our Stocks Data to a Pandas DataFrame\n",
    "\n",
    "The next thing we need to do is add our stock's price and market capitalization to a pandas DataFrame. Think of a DataFrame like the Python version of a spreadsheet. It stores tabular data."
   ]
  },
  {
   "cell_type": "code",
   "execution_count": null,
   "metadata": {},
   "outputs": [],
   "source": [
    "my_columns= ['Symbol','Stock Price','Market Capitalization', 'Number of Shares to Buy']\n",
    "final_dataframe=pd.DataFrame(columns=my_columns)\n",
    "final_dataframe"
   ]
  },
  {
   "cell_type": "code",
   "execution_count": null,
   "metadata": {},
   "outputs": [],
   "source": [
    "final_dataframe.append(\n",
    "    pd.Series(\n",
    "    [\n",
    "        symbol,\n",
    "        price,\n",
    "        market_cap,\n",
    "        'N/A'\n",
    "    ],\n",
    "    index=my_columns\n",
    "    ) ,\n",
    "    ignore_index=True\n",
    ")"
   ]
  },
  {
   "cell_type": "markdown",
   "metadata": {},
   "source": [
    "## Looping Through The Tickers in Our List of Stocks\n",
    "\n",
    "Using the same logic that we outlined above, we can pull data for all S&P 500 stocks and store their data in the DataFrame using a `for` loop. this will take 350 seconds because each command is around 1 second! we will not use that and use batch call."
   ]
  },
  {
   "cell_type": "code",
   "execution_count": null,
   "metadata": {},
   "outputs": [],
   "source": [
    "final_dataframe=pd.DataFrame(columns=my_columns)\n",
    "dash='-'\n",
    "start_time = time.time()\n",
    "max_lop_time=0\n",
    "for stock in stocks:\n",
    "    s_lop_time=time.time()\n",
    "    if(dash in stock):\n",
    "        #IEX symbols has a dot instead of dash '-' in the names of the stocks which are class A,B etc. there for we need to replace it.\n",
    "        stock=stock.replace(dash,\".\")\n",
    "    api_url=f'https://api.iex.cloud/v1/data/core/quote/{stock}?token={IEX_CLOUD_API_TOKEN}'\n",
    "    data=requests.get(api_url).json()\n",
    "    new_row=pd.Series({'Symbol':stock,'Stock Price':data[0]['latestPrice'],'Market Capitalization':round(data[0]['marketCap']/1000000,3),'Number of Shares to Buy':'N/A'})\n",
    "    final_dataframe=pd.concat([final_dataframe,new_row.to_frame().T], ignore_index=True)\n",
    "    lop_time=time.time()-s_lop_time\n",
    "    if (max_lop_time<=lop_time):\n",
    "        max_lop_time=lop_time\n",
    "end_time = time.time()\n",
    "execution_time = end_time - start_time\n",
    "print(\"Execution time:\", execution_time)\n",
    "print(\"Longest lop:\", max_lop_time)"
   ]
  },
  {
   "cell_type": "code",
   "execution_count": null,
   "metadata": {},
   "outputs": [],
   "source": [
    "final_dataframe"
   ]
  },
  {
   "cell_type": "markdown",
   "metadata": {},
   "source": [
    "## Using Batch API Calls to Improve Performance\n",
    "\n",
    "Batch API calls are one of the easiest ways to improve the performance of your code.\n",
    "\n",
    "This is because HTTP requests are typically one of the slowest components of a script.\n",
    "\n",
    "Also, API providers will often give you discounted rates for using batch API calls since they are easier for the API provider to respond to.\n",
    "\n",
    "IEX Cloud limits their batch API calls to 100 tickers per request. Still, this reduces the number of API calls we'll make in this section from 500 to 5 - huge improvement! In this section, we'll split our list of stocks into groups of 100 and then make a batch API call for each group.\n",
    "\n",
    "## Daniel Note - The new IEX can take 2000 keys in batch request. but we will use the chunks for future proofing in case that changes"
   ]
  },
  {
   "cell_type": "code",
   "execution_count": null,
   "metadata": {},
   "outputs": [],
   "source": [
    "def chunks(lst,n):\n",
    "    for i in range(0,len(lst),n):\n",
    "        yield lst[i:i+n]"
   ]
  },
  {
   "cell_type": "code",
   "execution_count": 19,
   "metadata": {},
   "outputs": [
    {
     "name": "stdout",
     "output_type": "stream",
     "text": [
      "Execution time: 92.3518614768982\n"
     ]
    },
    {
     "data": {
      "text/plain": "    Symbol Stock Price Market Capitalization Number of Shares to Buy\n0     AAPL      134.76           2134088.064                     N/A\n1     MSFT      239.23           1783819.089                     N/A\n2     GOOG        92.8            1115013.56                     N/A\n3    GOOGL       92.12            1115013.56                     N/A\n4     AMZN       98.12           1000986.308                     N/A\n..     ...         ...                   ...                     ...\n488    NWL       15.41              6373.576                     N/A\n489    ALK       50.29              6378.675                     N/A\n490   NCLH       15.63              6586.421                     N/A\n491    LNC       31.53              5335.364                     N/A\n492   LUMN         5.9              6104.039                     N/A\n\n[493 rows x 4 columns]",
      "text/html": "<div>\n<style scoped>\n    .dataframe tbody tr th:only-of-type {\n        vertical-align: middle;\n    }\n\n    .dataframe tbody tr th {\n        vertical-align: top;\n    }\n\n    .dataframe thead th {\n        text-align: right;\n    }\n</style>\n<table border=\"1\" class=\"dataframe\">\n  <thead>\n    <tr style=\"text-align: right;\">\n      <th></th>\n      <th>Symbol</th>\n      <th>Stock Price</th>\n      <th>Market Capitalization</th>\n      <th>Number of Shares to Buy</th>\n    </tr>\n  </thead>\n  <tbody>\n    <tr>\n      <th>0</th>\n      <td>AAPL</td>\n      <td>134.76</td>\n      <td>2134088.064</td>\n      <td>N/A</td>\n    </tr>\n    <tr>\n      <th>1</th>\n      <td>MSFT</td>\n      <td>239.23</td>\n      <td>1783819.089</td>\n      <td>N/A</td>\n    </tr>\n    <tr>\n      <th>2</th>\n      <td>GOOG</td>\n      <td>92.8</td>\n      <td>1115013.56</td>\n      <td>N/A</td>\n    </tr>\n    <tr>\n      <th>3</th>\n      <td>GOOGL</td>\n      <td>92.12</td>\n      <td>1115013.56</td>\n      <td>N/A</td>\n    </tr>\n    <tr>\n      <th>4</th>\n      <td>AMZN</td>\n      <td>98.12</td>\n      <td>1000986.308</td>\n      <td>N/A</td>\n    </tr>\n    <tr>\n      <th>...</th>\n      <td>...</td>\n      <td>...</td>\n      <td>...</td>\n      <td>...</td>\n    </tr>\n    <tr>\n      <th>488</th>\n      <td>NWL</td>\n      <td>15.41</td>\n      <td>6373.576</td>\n      <td>N/A</td>\n    </tr>\n    <tr>\n      <th>489</th>\n      <td>ALK</td>\n      <td>50.29</td>\n      <td>6378.675</td>\n      <td>N/A</td>\n    </tr>\n    <tr>\n      <th>490</th>\n      <td>NCLH</td>\n      <td>15.63</td>\n      <td>6586.421</td>\n      <td>N/A</td>\n    </tr>\n    <tr>\n      <th>491</th>\n      <td>LNC</td>\n      <td>31.53</td>\n      <td>5335.364</td>\n      <td>N/A</td>\n    </tr>\n    <tr>\n      <th>492</th>\n      <td>LUMN</td>\n      <td>5.9</td>\n      <td>6104.039</td>\n      <td>N/A</td>\n    </tr>\n  </tbody>\n</table>\n<p>493 rows × 4 columns</p>\n</div>"
     },
     "execution_count": 19,
     "metadata": {},
     "output_type": "execute_result"
    }
   ],
   "source": [
    "symbols=list(chunks(stocks,500))\n",
    "symbols_strings=[]\n",
    "for i in range(0,len(symbols)):\n",
    "     symbols_strings.append(','.join(symbols[i]))\n",
    "final_dataframe=pd.DataFrame(columns=my_columns)\n",
    "start_time = time.time()\n",
    "i=0\n",
    "symbols_strings = [i.replace(\"-\",\".\") for i in symbols_strings]         #IEX symbols has a dot instead of dash '-' in the names of the stocks which are class A,B etc. there for we need to replace it.\n",
    "for s in symbols_strings:\n",
    "    batch_url=f'https://api.iex.cloud/v1/data/core/quote/{s}?token={IEX_CLOUD_API_TOKEN}'\n",
    "    data=requests.get(batch_url).json()\n",
    "    for symbol in s.split(','):\n",
    "        new_row=pd.Series({'Symbol':symbol,'Stock Price':data[i]['latestPrice'],'Market Capitalization':round(data[i]['marketCap']/1000000,3),'Number of Shares to Buy':'N/A'})\n",
    "        final_dataframe=pd.concat([final_dataframe,new_row.to_frame().T], ignore_index=True)\n",
    "        i+=1\n",
    "end_time = time.time()\n",
    "execution_time = end_time - start_time\n",
    "print(\"Execution time:\", execution_time)\n",
    "final_dataframe"
   ]
  },
  {
   "cell_type": "markdown",
   "metadata": {},
   "source": [
    " ## Calculating the Number of Shares to Buy\n",
    "\n",
    "As you can see in the DataFrame above, we stil haven't calculated the number of shares of each stock to buy.\n",
    "\n",
    "We'll do that next.\n",
    "\n",
    "### Daniel- Explanation - lets say we want to buy from each company equally regarding the amount of $"
   ]
  },
  {
   "cell_type": "code",
   "execution_count": 20,
   "outputs": [
    {
     "name": "stdout",
     "output_type": "stream",
     "text": [
      "1000000.0\n"
     ]
    }
   ],
   "source": [
    "while True:\n",
    "    try:\n",
    "        protfolio_size=input('Enter protfolio size')\n",
    "        val=float(protfolio_size)\n",
    "        print(val)\n",
    "    except:\n",
    "        print('Please enter an integer')\n",
    "        continue\n",
    "    else:\n",
    "        break"
   ],
   "metadata": {
    "collapsed": false
   }
  },
  {
   "cell_type": "code",
   "execution_count": 22,
   "metadata": {},
   "outputs": [
    {
     "name": "stdout",
     "output_type": "stream",
     "text": [
      "Total spending:  958253.63\n"
     ]
    },
    {
     "data": {
      "text/plain": "               Symbol Stock Price Market Capitalization  \\\n0                AAPL      134.76           2134088.064   \n1                MSFT      239.23           1783819.089   \n2                GOOG        92.8            1115013.56   \n3               GOOGL       92.12            1115013.56   \n4                AMZN       98.12           1000986.308   \n...               ...         ...                   ...   \n489               ALK       50.29              6378.675   \n490              NCLH       15.63              6586.421   \n491               LNC       31.53              5335.364   \n492              LUMN         5.9              6104.039   \nTotal spending  Total           0                     0   \n\n                Number of Shares to Buy      Total  \n0                                    15     2021.4  \n1                                     8    1913.84  \n2                                    21     1948.8  \n3                                    22    2026.64  \n4                                    20     1962.4  \n...                                 ...        ...  \n489                                  40     2011.6  \n490                                 129    2016.27  \n491                                  64    2017.92  \n492                                 343     2023.7  \nTotal spending                    13450  958253.63  \n\n[494 rows x 5 columns]",
      "text/html": "<div>\n<style scoped>\n    .dataframe tbody tr th:only-of-type {\n        vertical-align: middle;\n    }\n\n    .dataframe tbody tr th {\n        vertical-align: top;\n    }\n\n    .dataframe thead th {\n        text-align: right;\n    }\n</style>\n<table border=\"1\" class=\"dataframe\">\n  <thead>\n    <tr style=\"text-align: right;\">\n      <th></th>\n      <th>Symbol</th>\n      <th>Stock Price</th>\n      <th>Market Capitalization</th>\n      <th>Number of Shares to Buy</th>\n      <th>Total</th>\n    </tr>\n  </thead>\n  <tbody>\n    <tr>\n      <th>0</th>\n      <td>AAPL</td>\n      <td>134.76</td>\n      <td>2134088.064</td>\n      <td>15</td>\n      <td>2021.4</td>\n    </tr>\n    <tr>\n      <th>1</th>\n      <td>MSFT</td>\n      <td>239.23</td>\n      <td>1783819.089</td>\n      <td>8</td>\n      <td>1913.84</td>\n    </tr>\n    <tr>\n      <th>2</th>\n      <td>GOOG</td>\n      <td>92.8</td>\n      <td>1115013.56</td>\n      <td>21</td>\n      <td>1948.8</td>\n    </tr>\n    <tr>\n      <th>3</th>\n      <td>GOOGL</td>\n      <td>92.12</td>\n      <td>1115013.56</td>\n      <td>22</td>\n      <td>2026.64</td>\n    </tr>\n    <tr>\n      <th>4</th>\n      <td>AMZN</td>\n      <td>98.12</td>\n      <td>1000986.308</td>\n      <td>20</td>\n      <td>1962.4</td>\n    </tr>\n    <tr>\n      <th>...</th>\n      <td>...</td>\n      <td>...</td>\n      <td>...</td>\n      <td>...</td>\n      <td>...</td>\n    </tr>\n    <tr>\n      <th>489</th>\n      <td>ALK</td>\n      <td>50.29</td>\n      <td>6378.675</td>\n      <td>40</td>\n      <td>2011.6</td>\n    </tr>\n    <tr>\n      <th>490</th>\n      <td>NCLH</td>\n      <td>15.63</td>\n      <td>6586.421</td>\n      <td>129</td>\n      <td>2016.27</td>\n    </tr>\n    <tr>\n      <th>491</th>\n      <td>LNC</td>\n      <td>31.53</td>\n      <td>5335.364</td>\n      <td>64</td>\n      <td>2017.92</td>\n    </tr>\n    <tr>\n      <th>492</th>\n      <td>LUMN</td>\n      <td>5.9</td>\n      <td>6104.039</td>\n      <td>343</td>\n      <td>2023.7</td>\n    </tr>\n    <tr>\n      <th>Total spending</th>\n      <td>Total</td>\n      <td>0</td>\n      <td>0</td>\n      <td>13450</td>\n      <td>958253.63</td>\n    </tr>\n  </tbody>\n</table>\n<p>494 rows × 5 columns</p>\n</div>"
     },
     "execution_count": 22,
     "metadata": {},
     "output_type": "execute_result"
    }
   ],
   "source": [
    "#A function that calculates the number of shares to buy based on the stock price\n",
    "def calculate_shares(row):\n",
    "    price = row['Stock Price']\n",
    "    shares =math.floor(position_size/price)\n",
    "    return shares\n",
    "\n",
    "position_size=val/len(final_dataframe.index)\n",
    "# Use the .apply() method to apply the calculate_shares function to each row of the DataFrame\n",
    "final_dataframe['Number of Shares to Buy'] = final_dataframe.apply(calculate_shares, axis=1)\n",
    "final_dataframe['Total'] = final_dataframe['Stock Price'] * final_dataframe['Number of Shares to Buy']\n",
    "total_spending = final_dataframe['Total'].sum()\n",
    "total_spending = \"{:.2f}\".format(total_spending)\n",
    "total_shares = final_dataframe['Number of Shares to Buy'].sum()\n",
    "final_dataframe.loc['Total spending'] = ['Total', 0, 0 ,total_shares, total_spending]\n",
    "print(\"Total spending: \", total_spending)\n",
    "final_dataframe\n"
   ]
  },
  {
   "cell_type": "markdown",
   "metadata": {},
   "source": [
    "\n",
    "\n",
    "### writing in Excel seems less exciting to me so I wanted to try to send those command into Interactive brokers sandbox program. the Interactive brokers software must be open with client ID 100 and ticked V at the most top setting under settings->>API"
   ]
  },
  {
   "cell_type": "code",
   "execution_count": 23,
   "metadata": {},
   "outputs": [
    {
     "name": "stderr",
     "output_type": "stream",
     "text": [
      "ERROR -1 502 Couldn't connect to TWS. Confirm that \"Enable ActiveX and Socket EClients\" \n",
      "is enabled and connection port is the same as \"Socket Port\" on the \n",
      "TWS \"Edit->Global Configuration...->API->Settings\" menu. Live Trading ports: \n",
      "TWS: 7496; IB Gateway: 4001. Simulated Trading ports for new installations \n",
      "of version 954.1 or newer:  TWS: 7497; IB Gateway: 4002\n"
     ]
    },
    {
     "ename": "AttributeError",
     "evalue": "'TestApp' object has no attribute 'nextOrderId'",
     "output_type": "error",
     "traceback": [
      "\u001B[1;31m---------------------------------------------------------------------------\u001B[0m",
      "\u001B[1;31mAttributeError\u001B[0m                            Traceback (most recent call last)",
      "Cell \u001B[1;32mIn[23], line 38\u001B[0m\n\u001B[0;32m     35\u001B[0m order\u001B[38;5;241m.\u001B[39morderType\u001B[38;5;241m=\u001B[39m\u001B[38;5;124m\"\u001B[39m\u001B[38;5;124mMKT\u001B[39m\u001B[38;5;124m\"\u001B[39m\n\u001B[0;32m     36\u001B[0m order\u001B[38;5;241m.\u001B[39mtotalQuantity\u001B[38;5;241m=\u001B[39m\u001B[38;5;241m1\u001B[39m\n\u001B[1;32m---> 38\u001B[0m app\u001B[38;5;241m.\u001B[39mplaceOrder(\u001B[43mapp\u001B[49m\u001B[38;5;241;43m.\u001B[39;49m\u001B[43mnextOrderId\u001B[49m,apple_contract,order)\n\u001B[0;32m     40\u001B[0m time\u001B[38;5;241m.\u001B[39msleep(\u001B[38;5;241m10\u001B[39m)\u001B[38;5;66;03m# wait for the order to be placed\u001B[39;00m\n\u001B[0;32m     41\u001B[0m app\u001B[38;5;241m.\u001B[39mdisconnect()\n",
      "\u001B[1;31mAttributeError\u001B[0m: 'TestApp' object has no attribute 'nextOrderId'"
     ]
    }
   ],
   "source": [
    "import time\n",
    "from ibapi.client import *\n",
    "from ibapi.wrapper import *\n",
    "import threading\n",
    "\n",
    "class TestApp(EClient, EWrapper): # intilaize EClient and Ewrapper\n",
    "    def __init__(self):\n",
    "        EClient.__init__(self, self)\n",
    "\n",
    "    def nextValidId(self, orderId: OrderId):\n",
    "        self.nextOrderId = orderId\n",
    "        print(f'Next valid order ID is {orderId}')\n",
    "\n",
    "def run_loop():\n",
    "    app.run()\n",
    "\n",
    "app = TestApp()\n",
    "app.connect(\"127.0.0.1\", 7497, 100)\n",
    "\n",
    "api_thread = threading.Thread(target=run_loop, daemon=True)\n",
    "api_thread.start()\n",
    "\n",
    "\n",
    "time.sleep(1)# wait for the app to start\n",
    "\n",
    "apple_contract=Contract()\n",
    "apple_contract.symbol='AAPL'\n",
    "apple_contract.secType='STK'\n",
    "apple_contract.exchange='ISLAND'\n",
    "apple_contract.currency='USD'\n",
    "\n",
    "\n",
    "order=Order()\n",
    "order.action=\"BUY\"\n",
    "order.orderType=\"MKT\"\n",
    "order.totalQuantity=1\n",
    "c\n",
    "app.placeOrder(app.nextOrderId,apple_contract,order)\n",
    "\n",
    "time.sleep(10)# wait for the order to be placed\n",
    "\n",
    "app.disconnect()\n"
   ]
  },
  {
   "cell_type": "markdown",
   "metadata": {},
   "source": []
  },
  {
   "cell_type": "markdown",
   "source": [],
   "metadata": {
    "collapsed": false
   }
  },
  {
   "cell_type": "markdown",
   "metadata": {},
   "source": []
  }
 ],
 "metadata": {
  "kernelspec": {
   "display_name": "Python 3 (ipykernel)",
   "language": "python",
   "name": "python3"
  },
  "language_info": {
   "codemirror_mode": {
    "name": "ipython",
    "version": 3
   },
   "file_extension": ".py",
   "mimetype": "text/x-python",
   "name": "python",
   "nbconvert_exporter": "python",
   "pygments_lexer": "ipython3",
   "version": "3.9.13"
  }
 },
 "nbformat": 4,
 "nbformat_minor": 4
}
